{
 "metadata": {
  "language_info": {
   "codemirror_mode": {
    "name": "ipython",
    "version": 3
   },
   "file_extension": ".py",
   "mimetype": "text/x-python",
   "name": "python",
   "nbconvert_exporter": "python",
   "pygments_lexer": "ipython3",
   "version": "3.8.3-final"
  },
  "orig_nbformat": 2,
  "kernelspec": {
   "name": "python3",
   "display_name": "Python 3"
  }
 },
 "nbformat": 4,
 "nbformat_minor": 2,
 "cells": [
  {
   "source": [
    "# ДЗ 15. Синонимайзинг текста\n",
    "Александров Валентин, 620 группа\n",
    "\n",
    "## Подход\n",
    "\n",
    "Для работы используются рускоязычные модели из пакета [Natasha](https://github.com/natasha/natasha). В качестве синонимов берем токен с наиболее похожим векторным представлением. Синонимы не подбираются для токенов, которые являются частью именнованных сущностей, которые нашла модель NER.\n",
    "Также подобранный синоним не применяется, если он и исходное слово имеют различную морфологию или дистанция между ними превышает некоторое пороговое значение, подобранное вручную"
   ],
   "cell_type": "markdown",
   "metadata": {}
  },
  {
   "cell_type": "code",
   "execution_count": 1,
   "metadata": {},
   "outputs": [],
   "source": [
    "texts = [\"В Париже проходит массовая манифестация в поддержку свободы СМИ, передает корреспондент РИА Новости. Акция, организованная при поддержке крупнейших профсоюзов Франции, собрала огромное число участников. Площадь Республики, стартовая точка маршрута, полностью заполнена людьми. Колонна растянулась по бульвару Тампль и начала движение к площади Бастилии.\",\n",
    "\"Военные эксперты, опрошенные РИА Новости, разошлись в оценке актуальности для России стратегических железнодорожных ракетных комплексов, аналогичных \\\"Молодцу\\\", принятому на вооружение ровно 31 год назад.\",\n",
    "\"Союз европейских футбольных ассоциаций (УЕФА) определится с местом проведения финала Лиги наций 2021 года 3 декабря, сообщается на сайте организации. УЕФА 3 декабря проведет заседание исполкома, в повестке которого также будут рассмотрены вопросы по назначению мест проведения Лиги конференций — 2022 (новый турнир УЕФА) и финального турнира молодежного чемпионата Европы (среди игроков до 21 года) 2023 года.\"]"
   ]
  },
  {
   "cell_type": "code",
   "execution_count": 2,
   "metadata": {},
   "outputs": [],
   "source": [
    "import gensim\n",
    "import numpy as np\n",
    "import pymystem3\n",
    "from pathlib import Path\n",
    "import zipfile\n",
    "from gensim.models.fasttext import FastText\n",
    "from string import punctuation"
   ]
  },
  {
   "cell_type": "code",
   "execution_count": 114,
   "metadata": {},
   "outputs": [],
   "source": [
    "from slovnet import NER\n",
    "from navec import Navec\n",
    "from ipymarkup import show_span_ascii_markup as show_markup\n",
    "from razdel import tokenize, sentenize\n",
    "import gc\n",
    "from sklearn.metrics import pairwise_distances\n",
    "from slovnet import Morph"
   ]
  },
  {
   "source": [
    "Для работы с рускоязычным текстом будем использовать модули проекта [Natasha](https://github.com/natasha/natasha). Возьмем оттуда модель NER, модель для морфологии и модель для эмбеддингов, основанную на GloVe."
   ],
   "cell_type": "markdown",
   "metadata": {}
  },
  {
   "cell_type": "code",
   "execution_count": 93,
   "metadata": {},
   "outputs": [],
   "source": [
    "ner_model = NER.load('C:/Datasets/slovnet_ner_news_v1.tar')\n",
    "navec_news = Navec.load('C:/Datasets/navec_news_v1_1B_250K_300d_100q.tar')\n",
    "navec = Navec.load('C:/Datasets/navec_hudlit_v1_12B_500K_300d_100q.tar')\n",
    "morph = Morph.load('C:/Datasets/slovnet_morph_news_v1.tar')\n",
    "morph.navec(navec_news)\n",
    "_ = ner_model.navec(navec_news)"
   ]
  },
  {
   "source": [
    "Пример работы разметки NER модели:"
   ],
   "cell_type": "markdown",
   "metadata": {}
  },
  {
   "cell_type": "code",
   "execution_count": 81,
   "metadata": {},
   "outputs": [
    {
     "output_type": "stream",
     "name": "stdout",
     "text": [
      "Союз европейских футбольных ассоциаций (УЕФА) определится с местом \nORG──────────────────────────────────────────                      \nпроведения финала Лиги наций 2021 года 3 декабря, сообщается на сайте \nорганизации. УЕФА 3 декабря проведет заседание исполкома, в повестке \n             ORG─                                                    \nкоторого также будут рассмотрены вопросы по назначению мест проведения\n Лиги конференций — 2022 (новый турнир УЕФА) и финального турнира \n                                       ORG─                       \nмолодежного чемпионата Европы (среди игроков до 21 года) 2023 года.\n"
     ]
    }
   ],
   "source": [
    "markup = ner_model(texts[2])\n",
    "show_markup(markup.text, markup.spans)"
   ]
  },
  {
   "source": [
    "Подготовим таблицу с эмбеддингами для всех слов:"
   ],
   "cell_type": "markdown",
   "metadata": {}
  },
  {
   "cell_type": "code",
   "execution_count": 82,
   "metadata": {},
   "outputs": [
    {
     "output_type": "execute_result",
     "data": {
      "text/plain": [
       "52252"
      ]
     },
     "metadata": {},
     "execution_count": 82
    }
   ],
   "source": [
    "indexes = navec.pq.indexes[np.arange(navec.pq.vectors)]\n",
    "parts = navec.pq.codes[navec.pq.qdims, indexes]\n",
    "emb_matrix = parts.reshape(-1, 300)\n",
    "\n",
    "del indexes, parts\n",
    "gc.collect()"
   ]
  },
  {
   "source": [
    "Пример морфологического анализа:"
   ],
   "cell_type": "markdown",
   "metadata": {}
  },
  {
   "cell_type": "code",
   "execution_count": 176,
   "metadata": {},
   "outputs": [
    {
     "output_type": "stream",
     "name": "stdout",
     "text": [
      "                   В ADP\n              Париже PROPN|Animacy=Inan|Case=Loc|Gender=Masc|Number=Sing\n            проходит VERB|Aspect=Imp|Mood=Ind|Number=Sing|Person=3|Tense=Pres|VerbForm=Fin|Voice=Act\n            массовая ADJ|Case=Nom|Degree=Pos|Gender=Fem|Number=Sing\n        манифестация NOUN|Animacy=Inan|Case=Nom|Gender=Fem|Number=Sing\n                   в ADP\n           поддержку NOUN|Animacy=Inan|Case=Acc|Gender=Fem|Number=Sing\n             свободы NOUN|Animacy=Inan|Case=Gen|Gender=Fem|Number=Sing\n                 СМИ NOUN|Animacy=Inan|Case=Gen|Gender=Neut|Number=Plur\n"
     ]
    }
   ],
   "source": [
    "text_tokenized = [token.text for token in tokenize(text)]\n",
    "morph_markup = next(morph.map([text_tokenized]))\n",
    "for token in markup.tokens[:9]:\n",
    "    print(f'{token.text:>20} {token.tag}')"
   ]
  },
  {
   "cell_type": "code",
   "execution_count": 177,
   "metadata": {},
   "outputs": [],
   "source": [
    "\n",
    "def get_text_synonyms(text, verbose=True, metric='cosine', distance_threshold = 0.4):\n",
    "\n",
    "    markup = ner_model(text)\n",
    "    ne_starts = np.array([span.start for span in markup.spans])\n",
    "    ne_stops  = np.array([span.stop for span in markup.spans])\n",
    "\n",
    "    tokens_to_replace = {}\n",
    "\n",
    "    text_tokenized = [token.text for token in tokenize(text)]\n",
    "    morph_markup = next(morph.map([text_tokenized]))\n",
    "    morph_tags = morph_markup.tags\n",
    "\n",
    "    if verbose:\n",
    "        print(f\"{'Original token':20}       {'Closest token':20} {'value':6}   {'is_distance_ok?':^10}    {'is_morph_ok?':^10}\")\n",
    "        print(\"-\"*85)\n",
    "\n",
    "    for token, morph_tag in zip(list(tokenize(text)), morph_tags):\n",
    "\n",
    "        # check if token is a part of named entity\n",
    "        if np.any(np.logical_and(token.start >= ne_starts, token.stop <= ne_stops)):\n",
    "            continue\n",
    "\n",
    "        emb = navec.get(token.text)\n",
    "        if emb is None:\n",
    "            continue\n",
    "\n",
    "        index = navec.vocab[token.text]\n",
    "        distances = pairwise_distances(emb_matrix, emb_matrix[index:index+1], metric=metric)\n",
    "\n",
    "        sorted_indecies = distances[:,0].argsort()\n",
    "        sorted_values = distances[sorted_indecies,0]\n",
    "\n",
    "        synonym_index = sorted_indecies[1]\n",
    "        synonym = navec.vocab.words[synonym_index]\n",
    "        \n",
    "        is_distance_ok = sorted_values[1] < distance_threshold\n",
    "        \n",
    "\n",
    "        synonym_morph = next(morph.map([[synonym]]))\n",
    "        synonym_morph_tag = synonym_morph.tags[0]\n",
    "\n",
    "        is_morph_ok = synonym_morph_tag == morph_tag\n",
    "\n",
    "        is_ok = is_morph_ok and is_distance_ok\n",
    "        if is_ok:\n",
    "            tokens_to_replace[token] = synonym\n",
    "\n",
    "        if verbose:\n",
    "            print(f\"{token.text:20}       {synonym:20} {sorted_values[1]:.6f}   {'x' if is_distance_ok else '-':^10}   {'x' if is_morph_ok else '-':^10}\")\n",
    "\n",
    "    return tokens_to_replace\n",
    "\n",
    "def paste_synonyms(text, tokens_to_replace):\n",
    "\n",
    "    new_text = text\n",
    "\n",
    "    bias = 0\n",
    "\n",
    "    for token, synonym in tokens_to_replace.items():\n",
    "\n",
    "        token_len = token.stop - token.start\n",
    "        new_text = new_text[:token.start+bias] + synonym + new_text[token.stop+bias:]\n",
    "\n",
    "        bias += len(synonym) - token_len\n",
    "\n",
    "    return new_text"
   ]
  },
  {
   "source": [
    "## Эксперименты"
   ],
   "cell_type": "markdown",
   "metadata": {}
  },
  {
   "cell_type": "code",
   "execution_count": 178,
   "metadata": {},
   "outputs": [
    {
     "output_type": "stream",
     "name": "stdout",
     "text": [
      "Original token             Closest token        value    is_distance_ok?    is_morph_ok?\n",
      "-------------------------------------------------------------------------------------\n",
      "проходит                   проходят             0.289616       x            -     \n",
      "массовая                   всеобщая             0.449626       -            x     \n",
      "манифестация               манифестации         0.414987       -            -     \n",
      "в                          во                   0.365701       x            x     \n",
      "поддержку                  поддержки            0.373150       x            -     \n",
      "свободы                    свобода              0.360995       x            -     \n",
      "передает                   передаёт             0.268194       x            -     \n",
      "корреспондент              репортер             0.265512       x            x     \n",
      "организованная             организована         0.318082       x            -     \n",
      "при                        этом                 0.419719       -            -     \n",
      "поддержке                  поддержки            0.357700       x            -     \n",
      "крупнейших                 крупных              0.354974       x            -     \n",
      "профсоюзов                 профсоюзы            0.355031       x            -     \n",
      "собрала                    собрав               0.276450       x            -     \n",
      "огромное                   громадное            0.183231       x            x     \n",
      "число                      количество           0.258284       x            -     \n",
      "участников                 участники            0.301522       x            -     \n",
      "стартовая                  посадочная           0.336098       x            x     \n",
      "точка                      точкой               0.363826       x            -     \n",
      "маршрута                   маршрутов            0.342818       x            -     \n",
      "полностью                  целиком              0.331045       x            x     \n",
      "заполнена                  заполненная          0.237395       x            -     \n",
      "людьми                     другими              0.281099       x            -     \n",
      "растянулась                растянувшись         0.306059       x            -     \n",
      "по                         всему                0.425491       -            -     \n",
      "бульвару                   проспекту            0.315229       x            x     \n",
      "и                          же                   0.313005       x            -     \n",
      "начала                     начал                0.356478       x            -     \n",
      "движение                   движения             0.350354       x            -     \n",
      "к                          ко                   0.260606       x            x     \n",
      "площади                    площадь              0.221444       x            -     \n",
      "\n",
      "Original text:\n",
      "\n",
      " В Париже проходит массовая манифестация в поддержку свободы СМИ, передает корреспондент РИА Новости. Акция, организованная при поддержке крупнейших профсоюзов Франции, собрала огромное число участников. Площадь Республики, стартовая точка маршрута, полностью заполнена людьми. Колонна растянулась по бульвару Тампль и начала движение к площади Бастилии. \n",
      "\n",
      "Modified text:\n",
      "\n",
      " В Париже проходит массовая манифестация во поддержку свободы СМИ, передает репортер РИА Новости. Акция, организованная при поддержке крупнейших профсоюзов Франции, собрала громадное число участников. Площадь Республики, посадочная точка маршрута, целиком заполнена людьми. Колонна растянулась по проспекту Тампль и начала движение ко площади Бастилии.\n"
     ]
    }
   ],
   "source": [
    "text = texts[0]\n",
    "\n",
    "tokens_to_replace = get_text_synonyms(text, metric='cosine')\n",
    "print('\\nOriginal text:\\n\\n', text, '\\n')\n",
    "print('Modified text:\\n\\n', paste_synonyms(text, tokens_to_replace))"
   ]
  },
  {
   "cell_type": "code",
   "execution_count": 179,
   "metadata": {},
   "outputs": [
    {
     "output_type": "stream",
     "name": "stdout",
     "text": [
      "Original token             Closest token        value    is_distance_ok?    is_morph_ok?\n",
      "-------------------------------------------------------------------------------------\n",
      "эксперты                   специалисты          0.238146       x            x     \n",
      "опрошенные                 допрошенные          0.439074       -            -     \n",
      "разошлись                  разъехались          0.313827       x            -     \n",
      "в                          во                   0.365701       x            x     \n",
      "оценке                     оценки               0.333624       x            -     \n",
      "актуальности               актуальность         0.335830       x            -     \n",
      "для                        использовать         0.479390       -            -     \n",
      "стратегических             ядерных              0.356429       x            x     \n",
      "железнодорожных            поездов              0.354061       x            -     \n",
      "ракетных                   ракет                0.299243       x            -     \n",
      "комплексов                 комплексах           0.372585       x            -     \n",
      "аналогичных                сходных              0.361740       x            x     \n",
      "принятому                  общепринятому        0.370225       x            -     \n",
      "на                         па                   0.498009       -            -     \n",
      "вооружение                 вооружения           0.346084       x            -     \n",
      "ровно                      десять               0.383209       x            -     \n",
      "год                        года                 0.221634       x            -     \n",
      "назад                      спустя               0.416584       -            -     \n",
      "\n",
      "Original text:\n",
      "\n",
      " Военные эксперты, опрошенные РИА Новости, разошлись в оценке актуальности для России стратегических железнодорожных ракетных комплексов, аналогичных \"Молодцу\", принятому на вооружение ровно 31 год назад. \n",
      "\n",
      "Modified text:\n",
      "\n",
      " Военные специалисты, опрошенные РИА Новости, разошлись во оценке актуальности для России ядерных железнодорожных ракетных комплексов, сходных \"Молодцу\", принятому на вооружение ровно 31 год назад.\n"
     ]
    }
   ],
   "source": [
    "text = texts[1]\n",
    "\n",
    "tokens_to_replace = get_text_synonyms(text, metric='cosine')\n",
    "print('\\nOriginal text:\\n\\n', text, '\\n')\n",
    "print('Modified text:\\n\\n', paste_synonyms(text, tokens_to_replace))"
   ]
  },
  {
   "cell_type": "code",
   "execution_count": 180,
   "metadata": {},
   "outputs": [
    {
     "output_type": "stream",
     "name": "stdout",
     "text": [
      "Original token             Closest token        value    is_distance_ok?    is_morph_ok?\n",
      "-------------------------------------------------------------------------------------\n",
      "определится                определилась         0.417604       -            -     \n",
      "с                          со                   0.278857       x            x     \n",
      "местом                     убежищем             0.432312       -            x     \n",
      "проведения                 проведении           0.250762       x            -     \n",
      "финала                     финале               0.355929       x            -     \n",
      "наций                      государств           0.356225       x            -     \n",
      "года                       году                 0.193501       x            -     \n",
      "декабря                    ноября               0.056676       x            x     \n",
      "сообщается                 аль-бухари           0.432629       -            -     \n",
      "на                         па                   0.498009       -            -     \n",
      "сайте                      сайта                0.277792       x            -     \n",
      "организации                организацией         0.243446       x            -     \n",
      "декабря                    ноября               0.056676       x            x     \n",
      "проведет                   проведут             0.267913       x            -     \n",
      "заседание                  заседания            0.268136       x            -     \n",
      "исполкома                  райисполкома         0.299570       x            x     \n",
      "в                          во                   0.365701       x            x     \n",
      "повестке                   повестки             0.408967       -            -     \n",
      "которого                   которому             0.240256       x            -     \n",
      "также                      частности            0.259199       x            -     \n",
      "будут                      станут               0.259455       x            -     \n",
      "рассмотрены                проанализированы     0.304399       x            x     \n",
      "вопросы                    ответы               0.319006       x            -     \n",
      "по                         всему                0.425491       -            -     \n",
      "назначению                 целевому             0.392510       x            -     \n",
      "мест                       места                0.354308       x            -     \n",
      "проведения                 проведении           0.250762       x            -     \n",
      "конференций                съездов              0.281833       x            -     \n",
      "новый                      первый               0.335645       x            x     \n",
      "турнир                     чемпионат            0.314162       x            -     \n",
      "и                          же                   0.313005       x            -     \n",
      "финального                 заключительного      0.324232       x            -     \n",
      "турнира                    чемпионата           0.325727       x            x     \n",
      "молодежного                молодёжного          0.255823       x            x     \n",
      "чемпионата                 матча                0.309555       x            x     \n",
      "среди                      средь                0.461903       -            -     \n",
      "игроков                    футболистов          0.311587       x            x     \n",
      "до                         конца                0.350015       x            -     \n",
      "года                       году                 0.193501       x            -     \n",
      "года                       году                 0.193501       x            -     \n",
      "\n",
      "Original text:\n",
      "\n",
      " Союз европейских футбольных ассоциаций (УЕФА) определится с местом проведения финала Лиги наций 2021 года 3 декабря, сообщается на сайте организации. УЕФА 3 декабря проведет заседание исполкома, в повестке которого также будут рассмотрены вопросы по назначению мест проведения Лиги конференций — 2022 (новый турнир УЕФА) и финального турнира молодежного чемпионата Европы (среди игроков до 21 года) 2023 года. \n",
      "\n",
      "Modified text:\n",
      "\n",
      " Союз европейских футбольных ассоциаций (УЕФА) определится со местом проведения финала Лиги наций 2021 года 3 ноября, сообщается на сайте организации. УЕФА 3 ноября проведет заседание райисполкома, во повестке которого также будут проанализированы вопросы по назначению мест проведения Лиги конференций — 2022 (первый турнир УЕФА) и финального чемпионата молодёжного матча Европы (среди футболистов до 21 года) 2023 года.\n"
     ]
    }
   ],
   "source": [
    "text = texts[2]\n",
    "\n",
    "tokens_to_replace = get_text_synonyms(text, metric='cosine')\n",
    "print('\\nOriginal text:\\n\\n', text, '\\n')\n",
    "print('Modified text:\\n\\n', paste_synonyms(text, tokens_to_replace))"
   ]
  },
  {
   "source": [
    "## Выводы\n",
    "\n",
    "Модель GloVe способна находить синонимы, но она очень плохо годится для этого. Например, в последнем тексте токены \"декабрь\" и \"ноябрь\" имеют очень малое расстояние между собой, что разумно для этих моделей, но не имеет смысла для синонимизации. Так как GloVe, как и W2V, основаны на том, как часто слова упоминаются в одном и том же контексте, и синонимы, и антонимы, и просто сходные по применению слова будут иметь похожие вектора."
   ],
   "cell_type": "markdown",
   "metadata": {}
  },
  {
   "source": [
    "Пример со словом \"светлый\", который имеет самый близкий токен \"темный\", а синонимы \"солнечный\" и \"ясный\" находятся не в начале списка:"
   ],
   "cell_type": "markdown",
   "metadata": {}
  },
  {
   "cell_type": "code",
   "execution_count": 200,
   "metadata": {},
   "outputs": [
    {
     "output_type": "stream",
     "name": "stdout",
     "text": [
      "             светлый  0.000000\n              темный  0.279039\n               серый  0.348976\n              тёмный  0.373169\n               синий  0.401431\n               белый  0.432204\n          золотистый  0.442950\n           солнечный  0.449291\n               ясный  0.462366\n            красивый  0.463627\n"
     ]
    }
   ],
   "source": [
    "ind = navec.vocab['светлый']\n",
    "\n",
    "distances = pairwise_distances(emb_matrix, emb_matrix[ind:ind+1], metric='cosine')\n",
    "\n",
    "sorted_indecies = distances[:,0].argsort()\n",
    "sorted_values = distances[sorted_indecies,0]\n",
    "for ind, value in zip(sorted_indecies[:10], sorted_values[:10]):\n",
    "    print(f'{navec.vocab.words[ind]:>20}  {value:6f}')"
   ]
  }
 ]
}