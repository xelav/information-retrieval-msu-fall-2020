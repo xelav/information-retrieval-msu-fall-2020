{
 "metadata": {
  "language_info": {
   "codemirror_mode": {
    "name": "ipython",
    "version": 3
   },
   "file_extension": ".py",
   "mimetype": "text/x-python",
   "name": "python",
   "nbconvert_exporter": "python",
   "pygments_lexer": "ipython3",
   "version": "3.7.3-final"
  },
  "orig_nbformat": 2,
  "kernelspec": {
   "name": "Python 3.7.3 64-bit",
   "display_name": "Python 3.7.3 64-bit",
   "metadata": {
    "interpreter": {
     "hash": "4c718f4b7b81c0b2f2dc7e5cb725011a0cc68e54295894b90c03f879e3b46d73"
    }
   }
  }
 },
 "nbformat": 4,
 "nbformat_minor": 2,
 "cells": [
  {
   "cell_type": "code",
   "execution_count": 2,
   "metadata": {},
   "outputs": [],
   "source": [
    "import wikipedia\n",
    "import re\n",
    "from pymystem3 import Mystem\n",
    "from tqdm import tqdm\n",
    "from multiprocessing import Pool\n",
    "import pickle\n",
    "from sklearn.feature_extraction.text import TfidfTransformer, TfidfVectorizer\n",
    "from sklearn.metrics.pairwise import cosine_similarity\n",
    "\n",
    "wikipedia.set_lang('ru')"
   ]
  },
  {
   "cell_type": "code",
   "execution_count": 28,
   "metadata": {},
   "outputs": [],
   "source": [
    "page_names = ['Трезубец_Посейдона', 'Флаг Барбадоса', 'Биологическое_оружие',\n",
    "'Блэкберн,_Люк_Прайор', 'Рим', 'Аппиева_дорога_при_закате_солнца']\n",
    "\n",
    "wikipedia_pages = [wikipedia.page(page_name) for page_name in page_names]"
   ]
  },
  {
   "cell_type": "code",
   "execution_count": 10,
   "metadata": {},
   "outputs": [],
   "source": [
    "queries = [\n",
    "    'Пейзаж с выжженной равниной увековечил образ вечного города.',\n",
    "    'Будущего губернатора Кентукки обвиняли в подготовке применения биологического оружия.',\n",
    "    'Трезубец на жёлто-синем фоне — это флаг Барбадоса.'\n",
    "]"
   ]
  },
  {
   "cell_type": "code",
   "execution_count": 29,
   "metadata": {
    "tags": []
   },
   "outputs": [
    {
     "output_type": "stream",
     "name": "stderr",
     "text": "100%|██████████| 44/44 [00:56<00:00,  1.27s/it]\n100%|██████████| 2/2 [00:05<00:00,  2.92s/it]\n100%|██████████| 11/11 [00:14<00:00,  1.29s/it]\n100%|██████████| 36/36 [00:40<00:00,  1.12s/it]\n100%|██████████| 22/22 [00:26<00:00,  1.19s/it]\n100%|██████████| 31/31 [00:32<00:00,  1.04s/it]\n"
    }
   ],
   "source": [
    "docs = []\n",
    "original_sentences = []\n",
    "m = Mystem()\n",
    "for page in wikipedia_pages:\n",
    "    s = re.sub('\\s', ' ', page.content) # remove newlines and tabs\n",
    "    s = re.sub('\\=\\= Примечания[\\w\\s\\=]*', '', s) # remove all text after 'Примечания'\n",
    "    s = re.sub(r'\\=\\=.*\\=\\=', ' ', s) # remove headers\n",
    "    s = re.sub(r'[^\\w \\.]', '', s.lower()) # remove non-letter symbols\n",
    "    s = [doc.strip() for doc in s.split('.')]\n",
    "    original_sentences += s\n",
    "    with Pool(4) as p:\n",
    "        lemmitized = list(tqdm(p.imap(m.lemmatize, s), total=len(s)))\n",
    "    # lemmitized = [m.lemmatize(doc) for doc in s]\n",
    "    docs += [[lemma for lemma in doc if lemma.isalpha() or lemma.isdigit()] for doc in lemmitized]"
   ]
  },
  {
   "cell_type": "code",
   "execution_count": null,
   "metadata": {},
   "outputs": [],
   "source": [
    "queries_processed = []\n",
    "for query in tqdm(queries):\n",
    "    s = m.lemmatize(query.lower())\n",
    "    s = [lemma for lemma in s if lemma.isalpha() or lemma.isdigit()]\n",
    "    queries_processed.append(s)"
   ]
  },
  {
   "cell_type": "code",
   "execution_count": 31,
   "metadata": {},
   "outputs": [],
   "source": [
    "SAVE_DATA = False\n",
    "if SAVE_DATA:\n",
    "    with open('lemmatized2.pkl', 'wb') as output_file:\n",
    "        pickle.dump((docs, original_sentences, queries_processed), output_file)"
   ]
  },
  {
   "cell_type": "code",
   "execution_count": 4,
   "metadata": {},
   "outputs": [],
   "source": [
    "with open('lemmatized2.pkl', 'rb') as output_file:\n",
    "    docs, original_sentences, queries_processed = pickle.load(output_file)"
   ]
  },
  {
   "cell_type": "code",
   "execution_count": 5,
   "metadata": {},
   "outputs": [
    {
     "output_type": "execute_result",
     "data": {
      "text/plain": "array([101,  55,  44], dtype=int64)"
     },
     "metadata": {},
     "execution_count": 5
    }
   ],
   "source": [
    "vectorizer = TfidfVectorizer(preprocessor=' '.join)\n",
    "X = vectorizer.fit_transform(docs)\n",
    "\n",
    "queries_tfidf = vectorizer.transform(queries_processed)\n",
    "query_results = cosine_similarity(X, queries_tfidf)\n",
    "query_results.argmax(axis=0)"
   ]
  },
  {
   "cell_type": "code",
   "execution_count": 42,
   "metadata": {
    "tags": []
   },
   "outputs": [
    {
     "output_type": "stream",
     "name": "stdout",
     "text": "Query:\nПейзаж с выжженной равниной увековечил образ вечного города.\n\nResults:\n  Weight  | Sentence\n(0.357645)  рим стали часто называть вечным лат\n(0.228971)  также рим называют городом на семи холмах\n(0.197148)  roma ˈroːma  столица и крупнейший город италии\n------\n\nQuery:\nБудущего губернатора Кентукки обвиняли в подготовке применения биологического оружия.\n\nResults:\n  Weight  | Sentence\n(0.566765)  биологическое оружие\n(0.274301)  в 1879 году он был избран губернатором кентукки от демократической партии\n(0.225297)  разновидностями биологического оружия являются энтомологическое оружие которое использует насекомых для атаки противника и генетическое оружие предназначенное для избирательного поражения населения по расовому этническому половому или иному генетически обусловленному признаку\n------\n\nQuery:\nТрезубец на жёлто-синем фоне — это флаг Барбадоса.\n\nResults:\n  Weight  | Sentence\n(0.523687)  флаг барбадоса  официальный символ государства барбадос\n(0.134013)  посейдон со своей женой богиней амфитритой и сыном тритоном обитают в роскошном дворце на дне моря в окружении нереид гиппокампов и других обитателей моря мчится по морю на колеснице запряжённой гиппокампусами с трезубцем которым вызывал бури разбивал скалы ударял по земле что приводило к образованию родников с пресной или морской водой\n(0.114155)  расположен на реке тибр\n------\n\n"
    }
   ],
   "source": [
    "for i, query in enumerate(queries):\n",
    "    print(f\"Query:\\n{query}\\n\")\n",
    "    print(\"Results:\\n  Weight  | Sentence\")\n",
    "    for ind in query_results[:,i].argsort()[:-4:-1]:\n",
    "        print(f\"({query_results[ind,i]:.6f})  {original_sentences[ind]}\")\n",
    "        # print(f\"With weight {query_results[ind,i]:.6f}\")\n",
    "    print(\"------\\n\")"
   ]
  }
 ]
}