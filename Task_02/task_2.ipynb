{
 "cells": [
  {
   "cell_type": "code",
   "execution_count": 2,
   "metadata": {},
   "outputs": [],
   "source": [
    "from pymystem3 import Mystem\n",
    "from tqdm import tqdm\n",
    "from nltk.corpus import stopwords\n",
    "\n",
    "russian_stopwords = stopwords.words(\"russian\")"
   ]
  },
  {
   "cell_type": "code",
   "execution_count": 4,
   "metadata": {},
   "outputs": [
    {
     "data": {
      "text/plain": [
       "18349"
      ]
     },
     "execution_count": 4,
     "metadata": {},
     "output_type": "execute_result"
    }
   ],
   "source": [
    "f = open('graf-monte-kristo.txt', 'r', encoding='utf-8').read()\n",
    "\n",
    "sentences = [s for s in f.split('\\n') if len(s) > 0]\n",
    "len(sentences)"
   ]
  },
  {
   "cell_type": "code",
   "execution_count": 5,
   "metadata": {
    "tags": []
   },
   "outputs": [
    {
     "name": "stderr",
     "output_type": "stream",
     "text": [
      "100%|██████████| 1000/1000 [33:22<00:00,  2.00s/it]\n"
     ]
    }
   ],
   "source": [
    "from multiprocessing import Pool\n",
    "\n",
    "FIRST_N = 1000\n",
    "\n",
    "m = Mystem()\n",
    "\n",
    "with Pool(2) as p:\n",
    "      lemmatized_sentences = list(tqdm(p.imap(m.lemmatize, sentences[:FIRST_N]), total=len(sentences[:FIRST_N])))"
   ]
  },
  {
   "cell_type": "code",
   "execution_count": 24,
   "metadata": {},
   "outputs": [],
   "source": [
    "from collections import Counter\n",
    "\n",
    "words = [word for sent in lemmatized_sentences for word in sent if word.isalpha() and word not in russian_stopwords]\n",
    "cnt = Counter(words) "
   ]
  },
  {
   "cell_type": "code",
   "execution_count": 40,
   "metadata": {
    "tags": []
   },
   "outputs": [
    {
     "name": "stdout",
     "output_type": "stream",
     "text": [
      "сказать              - 248\n",
      "дантес               - 227\n",
      "который              - 189\n",
      "это                  - 146\n",
      "вильфор              - 116\n",
      "свой                 - 114\n",
      "данглар              - 114\n",
      "фернан               - 105\n",
      "кадрусс              - 101\n",
      "отвечать             - 99\n",
      "знать                - 83\n",
      "мочь                 - 83\n",
      "мерседес             - 81\n",
      "весь                 - 77\n",
      "говорить             - 77\n",
      "человек              - 71\n",
      "эдмон                - 71\n",
      "капитан              - 65\n",
      "моррель              - 62\n",
      "видеть               - 61\n",
      "господин             - 61\n",
      "рука                 - 61\n",
      "отец                 - 57\n",
      "спрашивать           - 54\n",
      "письмо               - 53\n",
      "дело                 - 50\n",
      "хотеть               - 50\n",
      "ваш                  - 41\n",
      "глаз                 - 40\n",
      "друг                 - 39\n",
      "арматор              - 38\n",
      "ничто                - 38\n",
      "старик               - 38\n",
      "де                   - 36\n",
      "продолжать           - 36\n",
      "идти                 - 35\n",
      "наш                  - 35\n",
      "самый                - 33\n",
      "слово                - 32\n",
      "маркиз               - 32\n",
      "молодой              - 30\n",
      "время                - 30\n",
      "думать               - 29\n",
      "взять                - 29\n",
      "рене                 - 29\n",
      "взгляд               - 28\n",
      "голова               - 28\n",
      "любить               - 28\n",
      "казаться             - 28\n",
      "жандарм              - 28\n",
      "фараон               - 27\n",
      "первый               - 26\n",
      "корабль              - 26\n",
      "становиться          - 26\n",
      "выходить             - 26\n",
      "лицо                 - 26\n",
      "понимать             - 26\n",
      "год                  - 25\n",
      "сделать              - 25\n",
      "голос                - 25\n",
      "счастие              - 25\n",
      "исполнять            - 24\n",
      "пойти                - 24\n",
      "прокурор             - 24\n",
      "давать               - 23\n",
      "место                - 23\n",
      "должный              - 23\n",
      "помощник             - 23\n",
      "минута               - 23\n",
      "оставаться           - 23\n",
      "вскричать            - 23\n",
      "вино                 - 23\n",
      "марсель              - 22\n",
      "улыбка               - 22\n",
      "дверь                - 22\n",
      "стол                 - 22\n",
      "лодка                - 21\n",
      "ждать                - 21\n",
      "королевский          - 21\n",
      "моряк                - 20\n",
      "очень                - 20\n",
      "иметь                - 20\n",
      "умирать              - 19\n",
      "день                 - 19\n",
      "сын                  - 19\n",
      "остров               - 18\n",
      "отдавать             - 18\n",
      "увидеть              - 18\n",
      "оно                  - 18\n",
      "невеста              - 18\n",
      "каталанец            - 18\n",
      "тюрьма               - 18\n",
      "оставлять            - 17\n",
      "узнавать             - 17\n",
      "бумага               - 17\n",
      "делать               - 17\n",
      "забывать             - 17\n",
      "сердце               - 17\n",
      "твой                 - 17\n",
      "стакан               - 17\n"
     ]
    }
   ],
   "source": [
    "\n",
    "with open('task_2_out.txt', 'w', encoding='utf-8') as outfile:\n",
    "    for word, count in cnt.most_common()[:100]:\n",
    "        str = f'{word:20} - {count}'\n",
    "        outfile.write(str +'\\n')\n",
    "        print(str)"
   ]
  }
 ],
 "metadata": {
  "kernelspec": {
   "display_name": "Python 3",
   "language": "python",
   "name": "python3"
  },
  "language_info": {
   "codemirror_mode": {
    "name": "ipython",
    "version": 3
   },
   "file_extension": ".py",
   "mimetype": "text/x-python",
   "name": "python",
   "nbconvert_exporter": "python",
   "pygments_lexer": "ipython3",
   "version": "3.7.3"
  }
 },
 "nbformat": 4,
 "nbformat_minor": 4
}
