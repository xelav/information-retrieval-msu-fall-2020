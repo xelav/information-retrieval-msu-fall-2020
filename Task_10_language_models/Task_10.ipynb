{
 "metadata": {
  "language_info": {
   "codemirror_mode": {
    "name": "ipython",
    "version": 3
   },
   "file_extension": ".py",
   "mimetype": "text/x-python",
   "name": "python",
   "nbconvert_exporter": "python",
   "pygments_lexer": "ipython3",
   "version": "3.7.3-final"
  },
  "orig_nbformat": 2,
  "kernelspec": {
   "name": "Python 3.7.3 64-bit",
   "display_name": "Python 3.7.3 64-bit",
   "metadata": {
    "interpreter": {
     "hash": "4c718f4b7b81c0b2f2dc7e5cb725011a0cc68e54295894b90c03f879e3b46d73"
    }
   }
  }
 },
 "nbformat": 4,
 "nbformat_minor": 2,
 "cells": [
  {
   "cell_type": "code",
   "execution_count": 1,
   "metadata": {},
   "outputs": [],
   "source": [
    "import pickle\n",
    "import numpy as np\n",
    "import numpy.ma as ma"
   ]
  },
  {
   "cell_type": "markdown",
   "metadata": {},
   "source": [
    "# ДЗ 10 от 19.10.20\n",
    "\n",
    "## Задание\n",
    "\n",
    "Реализовать языковую модель информационного поиска для поиска предложений в Википедии для $\\lambda_1 = 0.5$  и $\\lambda_2 = 0.9$\n",
    "\n"
   ]
  },
  {
   "cell_type": "markdown",
   "metadata": {},
   "source": [
    "## Загружаем лемматизированные тексты из предыдущего задания"
   ]
  },
  {
   "cell_type": "code",
   "execution_count": 2,
   "metadata": {},
   "outputs": [],
   "source": [
    "queries = [\n",
    "    'Пейзаж с выжженной равниной увековечил образ вечного города.',\n",
    "    'Будущего губернатора Кентукки обвиняли в подготовке применения биологического оружия.',\n",
    "    'Трезубец на жёлто-синем фоне — это флаг Барбадоса.'\n",
    "]\n",
    "\n",
    "with open('../Task_4/lemmatized.pkl', 'rb') as output_file:\n",
    "    docs, original_sentences, queries_processed = pickle.load(output_file)"
   ]
  },
  {
   "cell_type": "markdown",
   "metadata": {},
   "source": [
    "Убираем документы без токенов"
   ]
  },
  {
   "cell_type": "code",
   "execution_count": 3,
   "metadata": {},
   "outputs": [],
   "source": [
    "\n",
    "docs = [[t for t in tokens if len(t)>1] for tokens in docs]\n",
    "\n",
    "original_sentences = [sent for tokens, sent in zip(docs, original_sentences) if len(tokens)>0]\n",
    "docs = [tokens for tokens in docs if len(tokens)>0]"
   ]
  },
  {
   "cell_type": "markdown",
   "metadata": {},
   "source": [
    "Векторизуем документы и запросы"
   ]
  },
  {
   "cell_type": "code",
   "execution_count": 18,
   "metadata": {},
   "outputs": [],
   "source": [
    "def vectorize(docs, vocab=None):\n",
    "    '''\n",
    "    docs - list of lists of tokens\n",
    "    vocab - set of tokens\n",
    "    Returns count array with shape (N x V), where N - number of documents and V - size of vocab\n",
    "    '''\n",
    "    if vocab is None:\n",
    "        vocab = set([token for sentence in docs for token in sentence if len(token)>0])\n",
    "    vectorized = np.zeros((len(docs),len(vocab)))\n",
    "\n",
    "    token_ind_dict = {tok: ind for ind, tok in dict(enumerate(vocab)).items()}\n",
    "\n",
    "    for doc_ind, doc in enumerate(docs):\n",
    "        for token in doc:\n",
    "            try:\n",
    "                token_id = token_ind_dict[token]\n",
    "                vectorized[doc_ind][token_id] += 1\n",
    "            except KeyError:\n",
    "                pass\n",
    "    return vectorized, token_ind_dict"
   ]
  },
  {
   "cell_type": "code",
   "execution_count": 44,
   "metadata": {},
   "outputs": [],
   "source": [
    "vocab = set([token for sentence in docs for token in sentence if len(token)>1])\n",
    "doc_vec, token_ind_dict = vectorize(docs, vocab)\n",
    "queries_vec, _ = vectorize(queries_processed, vocab)"
   ]
  },
  {
   "cell_type": "code",
   "execution_count": null,
   "metadata": {},
   "outputs": [],
   "source": [
    "def get_lm_probs(query_vec, doc_vecs, lmbd):\n",
    "\n",
    "    query_terms = np.where(query_vec)[0]\n",
    "    corpus_freqs = doc_vec.sum(axis=0)\n",
    "    corpus_size = corpus_freqs.sum()\n",
    "    doc_sizes = doc_vec.sum(axis=1)\n",
    "\n",
    "    global_probs = corpus_freqs[query_terms] / corpus_size\n",
    "    local_probs = (doc_vec[:,query_terms].T / doc_sizes).T\n",
    "\n",
    "    doc_probs = np.prod(global_probs * lmbd + local_probs * (1-lmbd), axis=1)\n",
    "\n",
    "    return doc_probs\n",
    "query_results = get_lm_probs(queries_vec[0], doc_vecs, 0.5).argsort()[-3:]"
   ]
  },
  {
   "cell_type": "code",
   "execution_count": 81,
   "metadata": {},
   "outputs": [],
   "source": [
    "query_terms = np.where(queries_vec[0])[0]\n",
    "corpus_freqs = doc_vec.sum(axis=0)\n",
    "corpus_size = corpus_freqs.sum()\n",
    "doc_sizes = doc_vec.sum(axis=1)\n",
    "\n",
    "global_probs = corpus_freqs[query_terms] / corpus_size\n",
    "local_probs = (doc_vec[:,query_terms].T / doc_sizes).T\n",
    "\n",
    "lmbd = 0.9\n",
    "doc_probs = np.prod(global_probs * lmbd + local_probs * (1-lmbd), axis=1)"
   ]
  },
  {
   "cell_type": "code",
   "execution_count": 95,
   "metadata": {},
   "outputs": [
    {
     "output_type": "execute_result",
     "data": {
      "text/plain": [
       "array([82, 92, 87], dtype=int64)"
      ]
     },
     "metadata": {},
     "execution_count": 95
    }
   ],
   "source": [
    "np.prod((doc_vec[:,query_terms].T / doc_sizes).T + global_probs, axis=1).argsort()[-3:]"
   ]
  },
  {
   "cell_type": "code",
   "execution_count": 98,
   "metadata": {},
   "outputs": [
    {
     "output_type": "execute_result",
     "data": {
      "text/plain": [
       "'roma ˈroːma  столица и крупнейший город италии'"
      ]
     },
     "metadata": {},
     "execution_count": 98
    }
   ],
   "source": [
    "original_sentences[82]"
   ]
  },
  {
   "cell_type": "code",
   "execution_count": 75,
   "metadata": {},
   "outputs": [
    {
     "output_type": "execute_result",
     "data": {
      "text/plain": [
       "array([36, 47, 63, 68, 44], dtype=int64)"
      ]
     },
     "metadata": {},
     "execution_count": 75
    }
   ],
   "source": [
    "lmbd = 0.9\n",
    "np.prod(global_probs * 0.9 + local_probs * 0.1, axis=1).argsort()[-5:]"
   ]
  },
  {
   "cell_type": "code",
   "execution_count": 62,
   "metadata": {},
   "outputs": [
    {
     "output_type": "execute_result",
     "data": {
      "text/plain": [
       "array([82, 92, 87], dtype=int64)"
      ]
     },
     "metadata": {},
     "execution_count": 62
    }
   ],
   "source": [
    "# return doc_probs\n",
    "query_results = doc_probs.argsort()[-3:]\n",
    "query_results"
   ]
  },
  {
   "cell_type": "code",
   "execution_count": 80,
   "metadata": {},
   "outputs": [
    {
     "output_type": "execute_result",
     "data": {
      "text/plain": [
       "'биологическое оружие включает также средства доставки патогенных микроорганизмов и животныхпереносчиков'"
      ]
     },
     "metadata": {},
     "execution_count": 80
    }
   ],
   "source": [
    "original_sentences[36]"
   ]
  },
  {
   "cell_type": "code",
   "execution_count": 68,
   "metadata": {},
   "outputs": [
    {
     "output_type": "execute_result",
     "data": {
      "text/plain": [
       "array([82, 92, 87], dtype=int64)"
      ]
     },
     "metadata": {},
     "execution_count": 68
    }
   ],
   "source": []
  },
  {
   "cell_type": "code",
   "execution_count": 63,
   "metadata": {},
   "outputs": [
    {
     "output_type": "execute_result",
     "data": {
      "text/plain": [
       "'оружейная палата  лучшие компьютерные игры'"
      ]
     },
     "metadata": {},
     "execution_count": 63
    }
   ],
   "source": [
    "original_sentences[45]"
   ]
  },
  {
   "cell_type": "code",
   "execution_count": 21,
   "metadata": {},
   "outputs": [],
   "source": [
    "ind_token_dict = {v:k for k, v in token_ind_dict.items()}"
   ]
  },
  {
   "cell_type": "code",
   "execution_count": 23,
   "metadata": {},
   "outputs": [
    {
     "output_type": "execute_result",
     "data": {
      "text/plain": [
       "'вечный'"
      ]
     },
     "metadata": {},
     "execution_count": 23
    }
   ],
   "source": [
    "ind_token_dict[565]"
   ]
  },
  {
   "cell_type": "code",
   "execution_count": 15,
   "metadata": {},
   "outputs": [
    {
     "output_type": "execute_result",
     "data": {
      "text/plain": [
       "['пейзаж',\n",
       " 'с',\n",
       " 'выжигать',\n",
       " 'равнина',\n",
       " 'увековечивать',\n",
       " 'образ',\n",
       " 'вечный',\n",
       " 'город']"
      ]
     },
     "metadata": {},
     "execution_count": 15
    }
   ],
   "source": [
    "queries_processed[0]"
   ]
  },
  {
   "cell_type": "code",
   "execution_count": 13,
   "metadata": {},
   "outputs": [
    {
     "output_type": "execute_result",
     "data": {
      "text/plain": [
       "array([[0.        , 0.        ],\n",
       "       [0.        , 0.        ],\n",
       "       [0.        , 0.        ],\n",
       "       [0.        , 0.        ],\n",
       "       [0.        , 0.        ],\n",
       "       [0.        , 0.        ],\n",
       "       [0.        , 0.        ],\n",
       "       [0.        , 0.        ],\n",
       "       [0.        , 0.        ],\n",
       "       [0.        , 0.        ],\n",
       "       [0.        , 0.        ],\n",
       "       [0.        , 0.        ],\n",
       "       [0.        , 0.        ],\n",
       "       [0.        , 0.        ],\n",
       "       [0.        , 0.        ],\n",
       "       [0.        , 0.        ],\n",
       "       [0.        , 0.        ],\n",
       "       [0.        , 0.        ],\n",
       "       [0.        , 0.        ],\n",
       "       [0.        , 0.        ],\n",
       "       [0.        , 0.        ],\n",
       "       [0.        , 0.        ],\n",
       "       [0.        , 0.        ],\n",
       "       [0.        , 0.        ],\n",
       "       [0.        , 0.        ],\n",
       "       [0.        , 0.        ],\n",
       "       [0.        , 0.        ],\n",
       "       [0.        , 0.        ],\n",
       "       [0.        , 0.        ],\n",
       "       [0.        , 0.        ],\n",
       "       [0.        , 0.        ],\n",
       "       [0.        , 0.        ],\n",
       "       [0.        , 0.        ],\n",
       "       [0.        , 0.        ],\n",
       "       [0.        , 0.        ],\n",
       "       [0.        , 0.        ],\n",
       "       [0.        , 0.        ],\n",
       "       [0.        , 0.        ],\n",
       "       [0.        , 0.        ],\n",
       "       [0.        , 0.        ],\n",
       "       [0.        , 0.        ],\n",
       "       [0.        , 0.        ],\n",
       "       [0.        , 0.        ],\n",
       "       [0.        , 0.        ],\n",
       "       [0.        , 0.        ],\n",
       "       [0.        , 0.        ],\n",
       "       [0.        , 0.        ],\n",
       "       [0.        , 0.        ],\n",
       "       [0.05882353, 0.        ],\n",
       "       [0.        , 0.        ],\n",
       "       [0.05555556, 0.        ],\n",
       "       [0.        , 0.        ],\n",
       "       [0.        , 0.        ],\n",
       "       [0.        , 0.        ],\n",
       "       [0.        , 0.        ],\n",
       "       [0.        , 0.        ],\n",
       "       [0.        , 0.        ],\n",
       "       [0.        , 0.        ],\n",
       "       [0.        , 0.        ],\n",
       "       [0.        , 0.        ],\n",
       "       [0.        , 0.        ],\n",
       "       [0.        , 0.        ],\n",
       "       [0.        , 0.        ],\n",
       "       [0.        , 0.        ],\n",
       "       [0.        , 0.        ],\n",
       "       [0.        , 0.        ],\n",
       "       [0.        , 0.        ],\n",
       "       [0.        , 0.        ],\n",
       "       [0.        , 0.        ],\n",
       "       [0.        , 0.        ],\n",
       "       [0.        , 0.        ],\n",
       "       [0.        , 0.        ],\n",
       "       [0.        , 0.        ],\n",
       "       [0.        , 0.        ],\n",
       "       [0.        , 0.        ],\n",
       "       [0.        , 0.        ],\n",
       "       [0.        , 0.        ],\n",
       "       [0.        , 0.        ],\n",
       "       [0.        , 0.        ],\n",
       "       [0.        , 0.        ],\n",
       "       [0.        , 0.        ],\n",
       "       [0.        , 0.        ],\n",
       "       [0.14285714, 0.        ],\n",
       "       [0.        , 0.        ],\n",
       "       [0.        , 0.        ],\n",
       "       [0.1       , 0.        ],\n",
       "       [0.        , 0.        ],\n",
       "       [0.        , 0.16666667],\n",
       "       [0.        , 0.        ],\n",
       "       [0.        , 0.        ],\n",
       "       [0.        , 0.        ],\n",
       "       [0.        , 0.        ],\n",
       "       [0.14285714, 0.        ],\n",
       "       [0.        , 0.        ],\n",
       "       [0.        , 0.        ],\n",
       "       [0.        , 0.        ],\n",
       "       [0.        , 0.        ],\n",
       "       [0.        , 0.        ],\n",
       "       [0.        , 0.        ],\n",
       "       [0.        , 0.        ],\n",
       "       [0.        , 0.        ],\n",
       "       [0.        , 0.        ],\n",
       "       [0.        , 0.        ],\n",
       "       [0.        , 0.        ],\n",
       "       [0.        , 0.        ],\n",
       "       [0.        , 0.        ],\n",
       "       [0.        , 0.        ],\n",
       "       [0.        , 0.        ],\n",
       "       [0.        , 0.        ],\n",
       "       [0.        , 0.        ],\n",
       "       [0.        , 0.        ],\n",
       "       [0.        , 0.        ],\n",
       "       [0.        , 0.        ],\n",
       "       [0.        , 0.        ],\n",
       "       [0.        , 0.        ],\n",
       "       [0.        , 0.        ],\n",
       "       [0.        , 0.        ],\n",
       "       [0.        , 0.        ],\n",
       "       [0.        , 0.        ],\n",
       "       [0.        , 0.        ],\n",
       "       [0.        , 0.        ],\n",
       "       [0.        , 0.        ],\n",
       "       [0.        , 0.        ],\n",
       "       [0.        , 0.        ]])"
      ]
     },
     "metadata": {},
     "execution_count": 13
    }
   ],
   "source": [
    "local_probs"
   ]
  },
  {
   "cell_type": "code",
   "execution_count": 132,
   "metadata": {},
   "outputs": [
    {
     "output_type": "execute_result",
     "data": {
      "text/plain": [
       "array([82, 92, 87], dtype=int64)"
      ]
     },
     "metadata": {},
     "execution_count": 132
    }
   ],
   "source": [
    "query_results = get_lm_probs(queries_vec[0], doc_vec, lmbd=0.5).argsort()[-3:]"
   ]
  },
  {
   "cell_type": "code",
   "execution_count": 139,
   "metadata": {},
   "outputs": [
    {
     "output_type": "execute_result",
     "data": {
      "text/plain": [
       "'также была осуществлена реформа судебной системы штата для финансирования необходимых программ был увеличен налог на имущество'"
      ]
     },
     "metadata": {},
     "execution_count": 139
    }
   ],
   "source": [
    "query_results = get_lm_probs(queries_vec[0], doc_vec, lmbd=0.5).argsort()[-3:]"
   ]
  },
  {
   "cell_type": "code",
   "execution_count": 138,
   "metadata": {},
   "outputs": [
    {
     "output_type": "stream",
     "name": "stdout",
     "text": [
      "Query:\nПейзаж с выжженной равниной увековечил образ вечного города.\n\nResults:\n  Weight  | Sentence\n(82  0.000017)  также была осуществлена реформа судебной системы штата для финансирования необходимых программ был увеличен налог на имущество\n(92  0.000017)  \n(87  0.000078)  blackburn luke pryor  the kentucky encyclopedia неопр\n------\n\nQuery:\nБудущего губернатора Кентукки обвиняли в подготовке применения биологического оружия.\n\nResults:\n  Weight  | Sentence\n(63  0.000000)  в апреле 1865 года к консулу сша в торонто явился некий джозеф хьямс и рассказал ему о заговоре во главе которого стоит находящийся в канаде блэкберн\n(68  0.000000)  под рубашками лежало одеяло по утверждению хьямса взятое с постели жертвы жёлтой лихорадки\n(44  0.000000)  флаг барбадоса  официальный символ государства барбадос\n------\n\nQuery:\nТрезубец на жёлто-синем фоне — это флаг Барбадоса.\n\nResults:\n  Weight  | Sentence\n(84  0.000000)  блэкберн был дважды женат у него был один сын\n(8  0.000000)  \n(34  0.000000)  зелинского в\n------\n\n"
     ]
    }
   ],
   "source": [
    "query_results = get_lm_probs(queries_vec[0], doc_vec, lmbd=0.5).argsort()[-3:]"
   ]
  },
  {
   "cell_type": "code",
   "execution_count": 128,
   "metadata": {},
   "outputs": [
    {
     "output_type": "execute_result",
     "data": {
      "text/plain": [
       "'roma ˈroːma  столица и крупнейший город италии'"
      ]
     },
     "metadata": {},
     "execution_count": 128
    }
   ],
   "source": [
    "original_sentences[82]"
   ]
  }
 ]
}